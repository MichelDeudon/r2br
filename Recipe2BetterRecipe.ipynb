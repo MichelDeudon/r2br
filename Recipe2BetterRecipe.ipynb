{
 "cells": [
  {
   "cell_type": "markdown",
   "metadata": {},
   "source": [
    "# Recipe2BetterRecipe 🍐🍋 🍊🍅"
   ]
  },
  {
   "cell_type": "code",
   "execution_count": null,
   "metadata": {},
   "outputs": [],
   "source": [
    "%load_ext autoreload\n",
    "%autoreload 2"
   ]
  },
  {
   "cell_type": "code",
   "execution_count": null,
   "metadata": {},
   "outputs": [],
   "source": [
    "import json\n",
    "import numpy as np\n",
    "import matplotlib.pyplot as plt"
   ]
  },
  {
   "cell_type": "code",
   "execution_count": null,
   "metadata": {},
   "outputs": [],
   "source": [
    "from sklearn.neural_network import BernoulliRBM"
   ]
  },
  {
   "cell_type": "code",
   "execution_count": null,
   "metadata": {},
   "outputs": [],
   "source": [
    "from src.utils import is_vegan, preprocess, decompose_vocab\n",
    "from src.utils import plot_co2_estimates, plot_histograms, plot_food_bias_seasons_Paris, plot_Zipf"
   ]
  },
  {
   "cell_type": "markdown",
   "metadata": {},
   "source": [
    "## 1. Preprocess recipe corpus"
   ]
  },
  {
   "cell_type": "code",
   "execution_count": null,
   "metadata": {},
   "outputs": [],
   "source": [
    "with open('recipes/train.json', 'r', encoding='utf-8') as fp:\n",
    "    data = json.load(fp) # {'id': 10259, 'cuisine': 'greek', 'ingredients': ['romaine lettuce', 'black olives'] }\n",
    "with open('recipes/test.json', 'r', encoding='utf-8') as fp:\n",
    "    data += json.load(fp) # {'id': 10259, 'ingredients': ['romaine lettuce', 'black olives'] }"
   ]
  },
  {
   "cell_type": "code",
   "execution_count": null,
   "metadata": {},
   "outputs": [],
   "source": [
    "np.random.seed(123) # set seed for reproductibility"
   ]
  },
  {
   "cell_type": "code",
   "execution_count": null,
   "metadata": {},
   "outputs": [],
   "source": [
    "corpus = [preprocess(r['ingredients']) for r in data] # preprocess 49718 recipes (is_alpha, lemmatize, - adjectives)\n",
    "corpus = [r for r in corpus if len(r)>=2] # keep 49687 recipes with 2+ ingredients"
   ]
  },
  {
   "cell_type": "code",
   "execution_count": null,
   "metadata": {
    "scrolled": true
   },
   "outputs": [],
   "source": [
    "vegan_corpus = [r for r in corpus if is_vegan(r)] # keep 12436 vegan recipes (meat, fish, dairy free!)"
   ]
  },
  {
   "cell_type": "code",
   "execution_count": null,
   "metadata": {},
   "outputs": [],
   "source": [
    "raw_vocab = set([token for r in corpus for token in r])\n",
    "raw_vegan_vocab = set([token for r in vegan_corpus for token in r])"
   ]
  },
  {
   "cell_type": "code",
   "execution_count": null,
   "metadata": {},
   "outputs": [],
   "source": [
    "print(vegan_corpus[0])\n",
    "print('{} vegan recipes'.format(len(vegan_corpus)))\n",
    "print('{} unique tokens'.format(len(set(raw_vegan_vocab))))"
   ]
  },
  {
   "cell_type": "markdown",
   "metadata": {},
   "source": [
    "## 2. Load seasonal fruits & vegs vocab"
   ]
  },
  {
   "cell_type": "code",
   "execution_count": null,
   "metadata": {},
   "outputs": [],
   "source": [
    "seasons = {} # seasonal fruits & vegs in Paris, from Leers et Fessard (2017)\n",
    "with open('seasons/paris-fruits.txt', 'r') as fp: \n",
    "    for month_id, foodlist in enumerate(fp.readlines()):\n",
    "        foodlist = [food.strip() for food in foodlist.replace('\\n','').split(',')]\n",
    "        seasons[month_id] = foodlist\n",
    "        \n",
    "with open('seasons/paris-vegs.txt', 'r') as fp: \n",
    "    for month_id, foodlist in enumerate(fp.readlines()):\n",
    "        foodlist = [food.strip() for food in foodlist.replace('\\n','').split(',')]\n",
    "        seasons[month_id] += foodlist"
   ]
  },
  {
   "cell_type": "code",
   "execution_count": null,
   "metadata": {},
   "outputs": [],
   "source": [
    "fruits_and_vegs = set()\n",
    "for foodlist in seasons.values():\n",
    "    for food in foodlist:\n",
    "        fruits_and_vegs.add(food)"
   ]
  },
  {
   "cell_type": "markdown",
   "metadata": {},
   "source": [
    "## 3. Remap corpus (vocab)"
   ]
  },
  {
   "cell_type": "code",
   "execution_count": null,
   "metadata": {
    "scrolled": false
   },
   "outputs": [],
   "source": [
    "roots = decompose_vocab(raw_vegan_vocab, fixed_points=fruits_and_vegs)"
   ]
  },
  {
   "cell_type": "code",
   "execution_count": null,
   "metadata": {},
   "outputs": [],
   "source": [
    "vegan_corpus = [ list(set([food if food not in roots else roots[food] for food in r])) for r in vegan_corpus] #######"
   ]
  },
  {
   "cell_type": "code",
   "execution_count": null,
   "metadata": {},
   "outputs": [],
   "source": [
    "vocab = set(np.sort([food for foodlist in vegan_corpus for food in foodlist]))"
   ]
  },
  {
   "cell_type": "code",
   "execution_count": null,
   "metadata": {},
   "outputs": [],
   "source": [
    "print(vegan_corpus[0])\n",
    "print('{} vegan recipes'.format(len(vegan_corpus)))\n",
    "print('{} unique tokens'.format(len(set(vocab))))"
   ]
  },
  {
   "cell_type": "code",
   "execution_count": null,
   "metadata": {},
   "outputs": [],
   "source": [
    "plot_histograms(x1=[len(x) for x in corpus],\n",
    "                x2=[len(x) for x in vegan_corpus],\n",
    "                title1='All recipes \\n μ={:.2f}'.format(np.mean([len(x) for x in corpus])),\n",
    "                title2='Vegan recipes (preprocessed+remapped) \\n μ={:.2f}'.format(np.mean([len(x) for x in vegan_corpus])),\n",
    "                bins1=65, bins2=30, filename='remapped_vegan_recipes.png')"
   ]
  },
  {
   "cell_type": "markdown",
   "metadata": {},
   "source": [
    "## 4. Food2ID mapping"
   ]
  },
  {
   "cell_type": "code",
   "execution_count": null,
   "metadata": {},
   "outputs": [],
   "source": [
    "vocab_map = dict(zip(list(vocab),np.arange(len(vocab))))\n",
    "inv_map = {v: k for k, v in vocab_map.items()}"
   ]
  },
  {
   "cell_type": "code",
   "execution_count": null,
   "metadata": {},
   "outputs": [],
   "source": [
    "vocab_counts = dict(zip(list(vocab),np.zeros(len(vocab))))\n",
    "for foodlist in vegan_corpus:\n",
    "    for food in foodlist:\n",
    "        vocab_counts[food] += 1/len(vegan_corpus)"
   ]
  },
  {
   "cell_type": "code",
   "execution_count": null,
   "metadata": {},
   "outputs": [],
   "source": [
    "histogram = np.sort(list(vocab_counts.values()))[::-1]"
   ]
  },
  {
   "cell_type": "markdown",
   "metadata": {},
   "source": [
    "## 5. Intersect seasonality and vegan_corpus"
   ]
  },
  {
   "cell_type": "code",
   "execution_count": null,
   "metadata": {},
   "outputs": [],
   "source": [
    "fruits_and_vegs = set()\n",
    "misunderstood = set()\n",
    "for foodlist in seasons.values():\n",
    "    for food in foodlist:\n",
    "        if food in vocab_counts:\n",
    "            fruits_and_vegs.add(food)\n",
    "        else:\n",
    "            misunderstood.add(food)\n",
    "\n",
    "fruits_and_vegs = np.array(list(fruits_and_vegs))\n",
    "print(len(fruits_and_vegs),'fruits and vegs understood')\n",
    "print('Misunderstood:',misunderstood)"
   ]
  },
  {
   "cell_type": "code",
   "execution_count": null,
   "metadata": {},
   "outputs": [],
   "source": [
    "fruits_and_vegs_bias = np.array([vocab_counts[food] for food in fruits_and_vegs])\n",
    "fruits_and_vegs_ranked = np.array([np.where(histogram==bias)[0][0] for bias in fruits_and_vegs_bias])\n",
    "ranked_idx = np.argsort(fruits_and_vegs_ranked)"
   ]
  },
  {
   "cell_type": "code",
   "execution_count": null,
   "metadata": {
    "scrolled": false
   },
   "outputs": [],
   "source": [
    "# plot food bias (word frequency) + seasonality in december\n",
    "top_k = 30\n",
    "month_id = 11\n",
    "plot_food_bias_seasons_Paris(fruits_and_vegs, fruits_and_vegs_bias, ranked_idx[::-1][-top_k:], seasons, month=month_id, n_subplots=1, figsize=(6,10))"
   ]
  },
  {
   "cell_type": "code",
   "execution_count": null,
   "metadata": {},
   "outputs": [],
   "source": [
    "plot_Zipf(vocab, histogram, fruits_and_vegs_ranked, fruits_and_vegs_bias, ranked_idx, filename='Zipflaw_power.png')"
   ]
  },
  {
   "cell_type": "code",
   "execution_count": null,
   "metadata": {},
   "outputs": [],
   "source": [
    "# Pie chart, where the slices will be ordered and plotted counter-clockwise:\n",
    "def my_autopct(pct):\n",
    "    return ('%.2f' % pct) if pct > 2. else ''\n",
    "\n",
    "top_k = 14 # show top_k\n",
    "labels = list(fruits_and_vegs[ranked_idx][:top_k]) + ['{} other \\n fruits/vegs'.format(len(fruits_and_vegs)-top_k)]\n",
    "sizes = list(fruits_and_vegs_bias[ranked_idx][:top_k]) + [np.sum(fruits_and_vegs_bias[ranked_idx][top_k:])]\n",
    "explode = [0.]*top_k + [0.1] # only \"explode\" the 2nd slice (i.e. 'Hogs')\n",
    "\n",
    "fig2, ax2 = plt.subplots(figsize=(10,10))\n",
    "ax2.pie(sizes, explode=explode, labels=labels, autopct='%1.1f%%', shadow=False, startangle=90, textprops={'fontsize': 20})\n",
    "ax2.axis('equal')  # Equal aspect ratio ensures that pie is drawn as a circle.\n",
    "\n",
    "plt.subplots_adjust(wspace=None, hspace=None)\n",
    "fig2.tight_layout()\n",
    "plt.savefig('img/Zipflaw_pie.png')\n",
    "plt.show()"
   ]
  },
  {
   "cell_type": "markdown",
   "metadata": {},
   "source": [
    "## 6. Basket of food, aka bag of words"
   ]
  },
  {
   "cell_type": "code",
   "execution_count": null,
   "metadata": {},
   "outputs": [],
   "source": [
    "X = [[vocab_map[food] for food in r] for r in vegan_corpus]"
   ]
  },
  {
   "cell_type": "code",
   "execution_count": null,
   "metadata": {},
   "outputs": [],
   "source": [
    "X_ = []\n",
    "for bow in X:\n",
    "    recipe_vector = np.zeros(len(vocab_map))\n",
    "    for k in bow:\n",
    "        recipe_vector[k] = 1\n",
    "    if len(bow)>0:\n",
    "        X_.append(recipe_vector)\n",
    "X_ = np.array(X_) # (n_recipes, n_ingredients) aka (n_samples, n_features)"
   ]
  },
  {
   "cell_type": "code",
   "execution_count": null,
   "metadata": {},
   "outputs": [],
   "source": [
    "print(X_.shape)\n",
    "print('sparsity {:.2f}%'.format(100*np.sum(X_)/(X_.shape[0]*X_.shape[1])))"
   ]
  },
  {
   "cell_type": "markdown",
   "metadata": {},
   "source": [
    "## 7. Fit RBM on dataset X"
   ]
  },
  {
   "cell_type": "code",
   "execution_count": null,
   "metadata": {},
   "outputs": [],
   "source": [
    "model = BernoulliRBM(n_components=150, batch_size=32, learning_rate=0.1, n_iter=100, verbose=0)\n",
    "model.fit(X_)"
   ]
  },
  {
   "cell_type": "code",
   "execution_count": null,
   "metadata": {},
   "outputs": [],
   "source": [
    "h = model.intercept_hidden_ \n",
    "v = model.intercept_visible_ \n",
    "W = model.components_ "
   ]
  },
  {
   "cell_type": "code",
   "execution_count": null,
   "metadata": {
    "scrolled": false
   },
   "outputs": [],
   "source": [
    "plt.figure(1,figsize=(15,5))\n",
    "plt.subplot(121)\n",
    "plt.scatter(np.arange(len(h)), np.sort(h), c='black', marker='+')\n",
    "plt.xlabel('hidden states')\n",
    "plt.ylabel('bias')\n",
    "plt.title('Sorted diets bias (c)')\n",
    "plt.subplot(122)\n",
    "plt.scatter(np.arange(len(v)), np.sort(v), c='black', alpha=0.3, marker='+')\n",
    "plt.xlabel('visible states')\n",
    "plt.ylabel('bias')\n",
    "plt.title('Sorted visible bias (b)')\n",
    "plt.savefig('img/RBM_biases.png')\n",
    "plt.show()"
   ]
  },
  {
   "cell_type": "markdown",
   "metadata": {},
   "source": [
    "## 8. Bias 12 models for Paris (dynamic) +1 (vanilla static model)"
   ]
  },
  {
   "cell_type": "code",
   "execution_count": null,
   "metadata": {},
   "outputs": [],
   "source": [
    "dynamic_model = {}"
   ]
  },
  {
   "cell_type": "code",
   "execution_count": null,
   "metadata": {},
   "outputs": [],
   "source": [
    "fruits_and_vegs_vector = np.zeros(len(vocab_map)) # 1 if fruits or vegs (with know season), 0 otherwise\n",
    "for food in fruits_and_vegs:\n",
    "    fruits_and_vegs_vector[vocab_map[food]] = 1"
   ]
  },
  {
   "cell_type": "code",
   "execution_count": null,
   "metadata": {
    "scrolled": false
   },
   "outputs": [],
   "source": [
    "for month_id in range(12):\n",
    "    v_dynamic = np.copy(v)\n",
    "    out_of_seasons = np.copy(fruits_and_vegs_vector) # all fruits/vegs\n",
    "\n",
    "    for food in fruits_and_vegs:\n",
    "        if food in seasons[month_id]:\n",
    "            out_of_seasons[vocab_map[food]] = 0 # remove food from out_of_season\n",
    "            #v_dynamic[vocab_map[food]] += 1. # augment probability of seasonal fruits/vegs\n",
    "        else:\n",
    "            v_dynamic[vocab_map[food]] -= 15. # lower probability of out of season fruits/vegs\n",
    "            \n",
    "    out_of_seasons = np.int32(out_of_seasons) # +1 if fruit of veg out of season, 0 otherwise\n",
    "    dynamic_model[month_id] = {'v':v_dynamic, 'HS':out_of_seasons}"
   ]
  },
  {
   "cell_type": "markdown",
   "metadata": {},
   "source": [
    "## 9. Recipe2BetterRecipe stats: % seasonal ingredients for each month and GHG excess"
   ]
  },
  {
   "cell_type": "code",
   "execution_count": null,
   "metadata": {},
   "outputs": [],
   "source": [
    "plot_co2_estimates(threshold=10.) # from Bon Pour le Climat"
   ]
  },
  {
   "cell_type": "code",
   "execution_count": null,
   "metadata": {
    "scrolled": false
   },
   "outputs": [],
   "source": [
    "def get_metrics(X_):\n",
    "    metrics = {'OOS_prop':[], 'GHG_low':[], 'GHG_high':[], 'counts':[]}\n",
    "    for month_id in range(12):\n",
    "        n_ingredients_ = np.sum(X_, axis=1) # number of ingredients for each recipe\n",
    "        n_ingredients_HS_ = np.sum(X_ * np.tile(dynamic_model[month_id]['HS'], (X_.shape[0], 1)), axis=1) # number of out of seasons fruits/vegs\n",
    "        HS_ratio_ = n_ingredients_HS_/n_ingredients_\n",
    "        metrics['OOS_prop'].append(100*np.mean(HS_ratio_)) # percentage of ingredients out of season\n",
    "        metrics['GHG_low'].append(5.7*np.mean(HS_ratio_)) # lower bound on GHG excess (out of season, in kg CO2/kg)\n",
    "        metrics['GHG_high'].append(13.3*np.mean(HS_ratio_)) # upper bound on GHG excess\n",
    "        metrics['counts'].append(100*np.sum(HS_ratio_==0)/len(X_)) # percentage of recipes seasonal \n",
    "    return metrics"
   ]
  },
  {
   "cell_type": "code",
   "execution_count": null,
   "metadata": {},
   "outputs": [],
   "source": [
    "def R2BR(model, bias, X):\n",
    "    model.intercept_visible_ = bias\n",
    "    X = model.gibbs(X)\n",
    "    X = np.array([r for r in X if np.sum(r)>0])\n",
    "    return X"
   ]
  },
  {
   "cell_type": "code",
   "execution_count": null,
   "metadata": {},
   "outputs": [],
   "source": [
    "stats = {'base': {}, 'static':{}, 'dynamic':{}} # metrics for different behaviors (no resample, static, dynamic)"
   ]
  },
  {
   "cell_type": "code",
   "execution_count": null,
   "metadata": {},
   "outputs": [],
   "source": [
    "# Original dataset\n",
    "metrics = get_metrics(X_)\n",
    "stats['base'] = metrics"
   ]
  },
  {
   "cell_type": "code",
   "execution_count": null,
   "metadata": {},
   "outputs": [],
   "source": [
    "X1_ = R2BR(model, v, X_) # RBM (static)\n",
    "metrics = get_metrics(X1_)\n",
    "stats['static'] = metrics"
   ]
  },
  {
   "cell_type": "code",
   "execution_count": null,
   "metadata": {},
   "outputs": [],
   "source": [
    "metrics = {'OOS_prop':[], 'GHG_low':[], 'GHG_high':[], 'counts':[]}\n",
    "for month_id in range(12):\n",
    "    X2_ = R2BR(model, dynamic_model[month_id]['v'], X_) # RBM (dynamic)\n",
    "\n",
    "    n_ingredients_ = np.sum(X2_, axis=1) # number of ingredients\n",
    "    n_ingredients_ = np.maximum(n_ingredients_,1)\n",
    "    n_ingredients_HS_ = np.sum(X2_ * np.tile(dynamic_model[month_id]['HS'], (X2_.shape[0], 1)), axis=1) # number of out of seasons fruits/vegs\n",
    "    HS_ratio_ = n_ingredients_HS_/n_ingredients_\n",
    "\n",
    "    metrics['OOS_prop'].append(100*np.mean(HS_ratio_))\n",
    "    metrics['GHG_low'].append(5.7*np.mean(HS_ratio_))\n",
    "    metrics['GHG_high'].append(13.3*np.mean(HS_ratio_))\n",
    "    metrics['counts'].append(100*np.sum(HS_ratio_==0)/len(X_))\n",
    "stats['dynamic'] = metrics"
   ]
  },
  {
   "cell_type": "code",
   "execution_count": null,
   "metadata": {},
   "outputs": [],
   "source": [
    "#fig = plt.figure(1,figsize=(10,6))\n",
    "#plt.scatter(np.arange(12), stats['base']['OOS_prop'], label='Vegan 10k', color='black', marker='o')\n",
    "#plt.plot(np.arange(12), stats['static']['OOS_prop'], label='RBM (static)', color='gray', linestyle='--')\n",
    "#plt.plot(np.arange(12), stats['dynamic']['OOS_prop'], label='Recipe2BetterRecipe (dynamic)', color='green')\n",
    "#plt.xlabel('Months', size=18)\n",
    "#plt.ylabel('Proportion \\n out-of-season ingredients (%)', size=18)\n",
    "#plt.legend()\n",
    "#fig.tight_layout()\n",
    "#plt.savefig('img/r2br_results_OOS_prop.png')\n",
    "#plt.show()"
   ]
  },
  {
   "cell_type": "code",
   "execution_count": null,
   "metadata": {},
   "outputs": [],
   "source": [
    "#fig = plt.figure(1,figsize=(10,6))\n",
    "#plt.scatter(np.arange(12), stats['base']['counts'], label='Vegan 10k', color='black', marker='o')\n",
    "#plt.plot(np.arange(12), stats['static']['counts'], label='RBM (static)', color='gray', linestyle='--')\n",
    "#plt.plot(np.arange(12), stats['dynamic']['counts'], label='Recipe2BetterRecipe (dynamic)', color='green')\n",
    "#plt.xlabel('Months', size=18)\n",
    "#plt.ylabel('Proportion \\n local-seasonal recipes (%)', size=18)\n",
    "#plt.legend()\n",
    "#fig.tight_layout()\n",
    "#plt.savefig('img/r2br_results_counts.png')\n",
    "#plt.show()"
   ]
  },
  {
   "cell_type": "code",
   "execution_count": null,
   "metadata": {},
   "outputs": [],
   "source": [
    "fig = plt.figure(1,figsize=(10,6))\n",
    "plt.scatter(np.arange(12), stats['base']['GHG_high'], label='Vegan 10k', color='black', marker='o')\n",
    "plt.scatter(np.arange(12), stats['base']['GHG_low'], color='black', marker='o')\n",
    "plt.plot(np.arange(12), stats['static']['GHG_high'], label='RBM (static)', color='gray', linestyle='--')\n",
    "plt.plot(np.arange(12), stats['static']['GHG_low'], color='gray', linestyle='--')\n",
    "plt.plot(np.arange(12), stats['dynamic']['GHG_high'], label='Recipe2BetterRecipe (dynamic)', color='green')\n",
    "plt.plot(np.arange(12), stats['dynamic']['GHG_low'], color='green')\n",
    "plt.xlabel('Months', size=18)\n",
    "plt.ylabel('ΔG \\n in kg CO2/kg', size=18)\n",
    "plt.legend()\n",
    "fig.tight_layout()\n",
    "plt.savefig('img/r2br_results_excess.png')\n",
    "plt.show()"
   ]
  },
  {
   "cell_type": "markdown",
   "metadata": {},
   "source": [
    "## 10. Examples: Recipes out-of-season in December"
   ]
  },
  {
   "cell_type": "code",
   "execution_count": null,
   "metadata": {},
   "outputs": [],
   "source": [
    "def recipe2vec(vocab_map, recipe):\n",
    "    recipe_vector = np.zeros((1,len(vocab_map)))\n",
    "    for food in recipe:\n",
    "        recipe_vector[0,vocab_map[food]] = 1\n",
    "    return recipe_vector"
   ]
  },
  {
   "cell_type": "code",
   "execution_count": null,
   "metadata": {},
   "outputs": [],
   "source": [
    "def vec2recipe(inv_map, recipe_vector):\n",
    "    _ , fids = np.where(recipe_vector>0)\n",
    "    recipe = [inv_map[fid] for fid in fids]\n",
    "    return np.sort(recipe)"
   ]
  },
  {
   "cell_type": "code",
   "execution_count": null,
   "metadata": {},
   "outputs": [],
   "source": [
    "def revise_recipe(model, bias, recipe_vector):\n",
    "    model.intercept_visible_ = bias # static model\n",
    "    return model.gibbs(recipe_vector)"
   ]
  },
  {
   "cell_type": "code",
   "execution_count": null,
   "metadata": {},
   "outputs": [],
   "source": [
    "def get_ingredients_HS(recipe_vector, out_of_seasons):\n",
    "    ingredients_HS = recipe_vector * np.tile(out_of_seasons, (1, 1))\n",
    "    _, oos_id = np.where(ingredients_HS>0) # out of seasons ingredients id\n",
    "    return ingredients_HS, oos_id"
   ]
  },
  {
   "cell_type": "code",
   "execution_count": null,
   "metadata": {},
   "outputs": [],
   "source": [
    "def r2br(recipe, recipe_vector):\n",
    "    print('\\n Original Recipe: {}'.format(', '.join(np.sort(recipe)))) # print recipe\n",
    "\n",
    "    for month_id in range(12):\n",
    "        ingredients_HS_, oos_id = get_ingredients_HS(recipe_vector, dynamic_model[month_id]['HS'])\n",
    "        if len(oos_id)==0:\n",
    "            print('{} 🏷️ Local-seasonal'.format(month_id+1))\n",
    "        else:\n",
    "            deprecated = ', '.join([inv_map[fid].capitalize() for fid in oos_id])\n",
    "            \n",
    "            revisited = False\n",
    "            while not revisited:\n",
    "                recipe_vector_dynamic = revise_recipe(model, dynamic_model[month_id]['v'], recipe_vector) # dynamic model\n",
    "                ingredients_HS_, oos_id = get_ingredients_HS(recipe_vector_dynamic, dynamic_model[month_id]['HS'])\n",
    "                alternative = [food for food in vec2recipe(inv_map, recipe_vector_dynamic ) if food in fruits_and_vegs and food not in recipe]\n",
    "                if len(alternative)>0:\n",
    "                    revisited=True\n",
    "            alternative = ', '.join(alternative)\n",
    "            print('{} ♻️ {} >> {}'.format(month_id+1, deprecated, alternative))"
   ]
  },
  {
   "cell_type": "code",
   "execution_count": null,
   "metadata": {},
   "outputs": [],
   "source": [
    "has_availibility_not_december = set() # seasonal but not in December! (for eval)\n",
    "for i in range(len(vegan_corpus)):\n",
    "    recipe = vegan_corpus[i]\n",
    "    recipe_vector = recipe2vec(vocab_map, recipe)\n",
    "    \n",
    "    for month_id in range(12):\n",
    "        ingredients_HS_, oos_id = get_ingredients_HS(recipe_vector, dynamic_model[month_id]['HS'])\n",
    "        if len(oos_id)==0:\n",
    "            has_availibility_not_december.add(i)\n",
    "        if len(oos_id)==0 and month_id==11:\n",
    "            has_availibility_not_december.remove(i)"
   ]
  },
  {
   "cell_type": "code",
   "execution_count": null,
   "metadata": {
    "scrolled": false
   },
   "outputs": [],
   "source": [
    "for i, id_ in enumerate(has_availibility_not_december):\n",
    "    recipe = vegan_corpus[id_]\n",
    "    recipe_vector = recipe2vec(vocab_map, recipe)\n",
    "    r2br(recipe, recipe_vector)\n",
    "    break # comment to view all examples"
   ]
  },
  {
   "cell_type": "code",
   "execution_count": null,
   "metadata": {},
   "outputs": [],
   "source": []
  },
  {
   "cell_type": "code",
   "execution_count": null,
   "metadata": {},
   "outputs": [],
   "source": []
  }
 ],
 "metadata": {
  "kernelspec": {
   "display_name": "Python 3",
   "language": "python",
   "name": "python3"
  },
  "language_info": {
   "codemirror_mode": {
    "name": "ipython",
    "version": 3
   },
   "file_extension": ".py",
   "mimetype": "text/x-python",
   "name": "python",
   "nbconvert_exporter": "python",
   "pygments_lexer": "ipython3",
   "version": "3.6.7"
  }
 },
 "nbformat": 4,
 "nbformat_minor": 2
}
